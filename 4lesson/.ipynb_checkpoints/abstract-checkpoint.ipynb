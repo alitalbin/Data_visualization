{
 "cells": [
  {
   "cell_type": "code",
   "execution_count": 77,
   "id": "59260837",
   "metadata": {},
   "outputs": [],
   "source": [
    "import os\n",
    "import json\n",
    "import re\n",
    "from collections import defaultdict\n",
    "import collections\n",
    "DATA = \".\\\\data\"\n",
    "punkt = re.compile(r\"[:.,;!?-]+\")"
   ]
  },
  {
   "cell_type": "code",
   "execution_count": 70,
   "id": "91947480",
   "metadata": {},
   "outputs": [
    {
     "name": "stdout",
     "output_type": "stream",
     "text": [
      "4317\n"
     ]
    }
   ],
   "source": [
    "paths = None\n",
    "papers = []\n",
    "for root,dirs,files in os.walk(\".\\\\data\"):\n",
    "    paths = [os.path.join(DATA, flname) for flname in files]\n",
    "\n",
    "for path in paths:\n",
    "    with open(path,\"r\", encoding=\"utf-8\") as fh:\n",
    "        papers.extend(json.load(fh))\n",
    "print(len(papers))"
   ]
  },
  {
   "cell_type": "code",
   "execution_count": 71,
   "id": "535d7133",
   "metadata": {},
   "outputs": [
    {
     "name": "stdout",
     "output_type": "stream",
     "text": [
      "92 2164\n"
     ]
    }
   ],
   "source": [
    "abstracts = [paper[\"abstract\"] for paper in papers]\n",
    "lengs = list(set([len(abs1) for abs1 in abstracts]))\n",
    "sorted(lengs)\n",
    "print(lengs[0],lengs[-1])\n"
   ]
  },
  {
   "cell_type": "code",
   "execution_count": 72,
   "id": "b9126d29",
   "metadata": {},
   "outputs": [],
   "source": [
    "abstracts_tok = [re.sub(punkt,\"\",abs1.replace(\"\\n\",\" \")).lower().split(\" \") for abs1 in abstracts]\n",
    "    "
   ]
  },
  {
   "cell_type": "code",
   "execution_count": 73,
   "id": "b2845fa5",
   "metadata": {},
   "outputs": [],
   "source": [
    "cnt = defaultdict(int)\n",
    "for abs1 in abstracts_tok:\n",
    "    for tok in abs1:\n",
    "        cnt[tok]+=1"
   ]
  },
  {
   "cell_type": "code",
   "execution_count": 75,
   "id": "5e09daf3",
   "metadata": {},
   "outputs": [
    {
     "name": "stdout",
     "output_type": "stream",
     "text": [
      "39431\n"
     ]
    }
   ],
   "source": [
    "print(len(cnt))"
   ]
  },
  {
   "cell_type": "code",
   "execution_count": 106,
   "id": "ce206a70",
   "metadata": {},
   "outputs": [],
   "source": [
    "res = dict()\n",
    "for key,val in cnt.items():\n",
    "    if val<100 and val>50 and key.isalpha() and len(key)>3:\n",
    "        res[len(key)]=val\n"
   ]
  },
  {
   "cell_type": "code",
   "execution_count": 107,
   "id": "9bd18564",
   "metadata": {},
   "outputs": [],
   "source": [
    "with open(\"forviz.json\",\"w\") as fh:\n",
    "    fh.write(json.dumps(list(res.items())))"
   ]
  },
  {
   "cell_type": "code",
   "execution_count": null,
   "id": "345bcb56",
   "metadata": {},
   "outputs": [],
   "source": []
  }
 ],
 "metadata": {
  "kernelspec": {
   "display_name": "Python 3 (ipykernel)",
   "language": "python",
   "name": "python3"
  },
  "language_info": {
   "codemirror_mode": {
    "name": "ipython",
    "version": 3
   },
   "file_extension": ".py",
   "mimetype": "text/x-python",
   "name": "python",
   "nbconvert_exporter": "python",
   "pygments_lexer": "ipython3",
   "version": "3.9.7"
  }
 },
 "nbformat": 4,
 "nbformat_minor": 5
}
